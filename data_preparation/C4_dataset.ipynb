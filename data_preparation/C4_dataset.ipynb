{
 "cells": [
  {
   "cell_type": "markdown",
   "id": "341bd39a",
   "metadata": {},
   "source": [
    "# C4 Dataset"
   ]
  },
  {
   "cell_type": "markdown",
   "id": "540ed3f1",
   "metadata": {},
   "source": [
    "C4 is a pretraining dataset derived from the Common Crawl web data. It contains all sort of text from the web. \n",
    "\n",
    "5 variants of the data:\n",
    "- en: 305 GB\n",
    "- en.noclean: 2.3TB (unfiltered version without cleaning)\n",
    "- en.noblocklist: 308 GB (includes data that would otherwise be removed via blocklist)\n",
    "- realnewlike: 15 GB (subet similar in style to RealNews)\n",
    "- multilingual (mC4): 9.7TB (108 subets, one per language)\n",
    "\n",
    "Reference: https://huggingface.co/datasets/allenai/c4"
   ]
  },
  {
   "cell_type": "code",
   "execution_count": 1,
   "id": "bdbe8cb8",
   "metadata": {},
   "outputs": [],
   "source": [
    "#!pip install datasets"
   ]
  },
  {
   "cell_type": "code",
   "execution_count": 2,
   "id": "222ec95a",
   "metadata": {},
   "outputs": [
    {
     "name": "stderr",
     "output_type": "stream",
     "text": [
      "/Users/pjm/Documents/projects/ai-ml-scripts/data_preparation/data_prep_env/lib/python3.10/site-packages/tqdm/auto.py:21: TqdmWarning: IProgress not found. Please update jupyter and ipywidgets. See https://ipywidgets.readthedocs.io/en/stable/user_install.html\n",
      "  from .autonotebook import tqdm as notebook_tqdm\n"
     ]
    },
    {
     "data": {
      "text/plain": [
       "IterableDataset({\n",
       "    features: ['text', 'timestamp', 'url'],\n",
       "    num_shards: 512\n",
       "})"
      ]
     },
     "execution_count": 2,
     "metadata": {},
     "output_type": "execute_result"
    }
   ],
   "source": [
    "from datasets import load_dataset\n",
    "\n",
    "# Load the dataset in streaming mode:\n",
    "# This avoids downloading the full dataset and allows lazy iteration over examples one at a time,\n",
    "# which is efficient for large datasets like C4.\n",
    "realnewslike = load_dataset(\"allenai/c4\", \"realnewslike\", split=\"train\", streaming=True)\n",
    "realnewslike # IterableDataset, which is iterable\n"
   ]
  },
  {
   "cell_type": "code",
   "execution_count": 3,
   "id": "3a0acbdc",
   "metadata": {},
   "outputs": [
    {
     "name": "stdout",
     "output_type": "stream",
     "text": [
      "After the martyrdom of St. Boniface, Vergilius was made Bishop of Salzburg (766 or 767) and laboured successfully for the upbuilding of his diocese as well as for the spread of the Faith in neighbouring heathen countries, especially in Carinthia. He died at Salzburg, 27 November, 789. In 1233 he was canonized by Gregory IX. His doctrine that the earth is a sphere was derived from the teaching of ancient geographers, and his belief in the existence of the antipodes was probably influenced by the accounts which the ancient Irish voyagers gave of their journeys. This, at least, is the opinion of Rettberg (\"Kirchengesch. Deutschlands\", II, 236).\n",
      "2019-04-22 08:07:02\n",
      "https://www.catholic.org/encyclopedia/view.php?id=11981\n"
     ]
    }
   ],
   "source": [
    "# Get the first example\n",
    "examples_iter = iter(realnewslike) # get iterator over all data\n",
    "first_example = next(examples_iter) # get first example \n",
    "print(first_example['text'])\n",
    "print(first_example['timestamp'])\n",
    "print(first_example['url'])"
   ]
  },
  {
   "cell_type": "code",
   "execution_count": 4,
   "id": "b6035725",
   "metadata": {},
   "outputs": [
    {
     "name": "stdout",
     "output_type": "stream",
     "text": [
      "Example 0:\n",
      "After the martyrdom of St. Boniface, Vergilius was made Bishop of Salzburg (766 or 767) and laboured successfully for the upbuilding of his diocese as well as for the spread of the Faith in neighbouring heathen countries, especially in Carinthia. He died at Salzburg, 27 November, 789. In 1233 he was canonized by Gregory IX. His doctrine that the earth is a sphere was derived from the teaching of ancient geographers, and his belief in the existence of the antipodes was probably influenced by the accounts which the ancient Irish voyagers gave of their journeys. This, at least, is the opinion of Rettberg (\"Kirchengesch. Deutschlands\", II, 236).\n",
      "https://www.catholic.org/encyclopedia/view.php?id=11981\n",
      "\n",
      "Example 1:\n",
      "\"Whoever gets him, they'll be getting a good one,\" David Montgomery said.\n",
      "INDIANAPOLIS — Hakeem Butler has been surrounded by some of the best wide receivers on the planet this week at the NFL Scouting Combine.\n",
      "It’s an experience that might humble some. But for Butler, it has only enhanced his confidence.\n",
      "As it stands, 22-year-old Butler is not regarded as the best wide receiver in this year’s NFL Draft. He’s projected by some experts to go as late as the third round. But when wide receivers were measured Thursday, Butler gained some attention: He led all receivers in height (6-foot-5 3/8), arm length (35 1/4 inches) and wingspan (83 7/8 inches).\n",
      "On Thursday, running back David Montgomery, who played with Butler at Iowa State, captured the general vibe surrounding Butler here.\n",
      "Butler says he’s met with every NFL team on an informal basis. He had “nine or 10” formal meetings set up for Friday night, but didn’t divulge which teams he’d be sitting down with.\n",
      "There is clear interest in Butler, who declared for the draft after his junior season in which he had 60 receptions for 1,318 yards and nine touchdowns.\n",
      "But in his mind, the hype machine hasn’t been turned up high enough — yet.\n",
      "Butler, of course, is talking about Saturday’s wide receiver workouts. If he crushes the drills, he could vault up the draft board — perhaps into the first round. And he feels well-prepared because he’s spent the past few months working out with some legendary NFL receivers in Calvin Johnson and Anquan Boldin.\n",
      "Butler met Boldin at the South Florida gym where he trains. He was connected to Johnson through his agent.\n",
      "Johnson and Boldin are known for being precise, tactical receivers. But Butler says the most valuable lesson of working with them has been learning about how they think.\n",
      "Butler admitted the first time he worked with Johnson, who went to six Pro Bowls with the Detroit Lions from 2010-15, that he was a little starstruck.\n",
      "Butler is hoping that one day he can leave a legacy like Boldin or Johnson. But for now, his goal is to prove what he already believes is true: that he is the top receiver in this draft.\n",
      "https://www.desmoinesregister.com/story/sports/college/iowa-state/cyclone-insider/2019/03/01/nfl-scouting-combine-hakeem-butler-iowa-state-cyclones-indianapolis-david-montgomery-wide-receiver/3034514002/\n",
      "\n",
      "Example 2:\n",
      "8i announced today it has launched a web player, the 8i Portal, for its volumetric 3D video of people in virtual reality.\n",
      "Using 8i’s technology and VR goggles, you’ll be able to walk around a person inside a virtual environment to see their entire being. The Wellington, New Zealand-based startup said its VR platform will allow you to view fully volumetric 3D video.\n",
      "Previously, VR cameras could record a partial torso of a person, but the 8i Portal goes beyond that. It enables “complete freedom of movement,” and it gives you a sense of “presence,” or the feeling that you are there in the virtual space with the person. It creates a more “emotional connection with the person you are watching,” the company said in the video below.\n",
      "8i’s platform will let you create, experience, and share immersive 3D video of real people — for virtual reality, augmented reality, and the web. I’m not sure how it can be used for games, but you can see how it could give you a unique perspective at a music concert or theatrical performance.\n",
      "Linc Gasking, who previously ran countingdown.com (which DreamWorks acquired), and Eugene d’Eon, formerly of Weta Digital and Nvidia, founded the startup in 2014.\n",
      "To date, 8i has raised $14.8 million in funding from investors including RRE Ventures, Founders Fund Science, Horizons Ventures, Samsung Ventures, Dolby Family Ventures, Signia Venture Partners, Bertelsmann Digital Media Investments, Sound Ventures, Inevitable Ventures, Freelands, and Advancit Capital.\n",
      "The new 8i Portal is a volumetric VR player for Oculus Rift and the HTC Vive VR platforms. If you use the Oculus Rift or Vive headsets, you can view cool VR videos of people who look real, not computer-generated, and move around them, make eye contact, and feel “true presence,” the company said.\n",
      "https://venturebeat.com/2016/01/04/8i-unveils-web-player-for-its-3d-imagery-of-people-in-vr/\n",
      "\n",
      "Example 3:\n",
      "The Arlington County Board plans to vote Saturday afternoon on giving Amazon $23 million and other incentives to build a headquarters campus in Crystal City, but only after hearing scores of northern Virginia residents and advocates testify for or against the project.\n",
      "The five-member board is expected to support the plan, which was announced amid much hoopla on Nov. 13. The proposed county incentives are part of an agreement in which Amazon would occupy significant office space and bring at least 25,000 high-paying jobs to Arlington in coming years.\n",
      "Opponents hope to postpone the vote until after additional public hearings, where they want representatives of the online retail giant to answer questions directly from anyone in the community.\n",
      "The Saturday hearing was scheduled to begin no earlier than 1 p.m. and last several hours before the vote. Ninety-one people signed up in advance to speak on the topic.\n",
      "In the four months since Arlington won a much-publicized, nationwide contest to attract the facility known as HQ2, Arlington residents have been asking questions about its impact on their community.\n",
      "People have looked at the county’s five online Q&A sessions 14,000 times, and about 400 attended community events to discuss the provisions in the Amazon agreement. Board members and county staff also met with scores of civic organizations, served on multiple panels and appeared on television, online and in news articles to discuss the deal.\n",
      "Most Arlingtonians, northern Virginians and residents of the Washington region support Amazon’s arrival, several surveys have found. Business organizations, universities and nonprofit groups came out strongly for the deal.\n",
      "But a small, vocal group of activists has sought to block the project, saying that the county and commonwealth should not give any incentives to one of the world’s most valuable companies. They also have demanded housing and job protections for existing residents.\n",
      "These opponents — including left-wing organizations and immigrants groups — felt empowered after Amazon canceled plans last month to build a headquarters facility in New York City, also with 25,000 jobs. The company withdrew after criticism of the plan from some elected leaders, unions and community activists.\n",
      "In Virginia, however, such opposition did not appear to catch fire among the broader public.\n",
      "Officials estimate that the Amazon project’s net fiscal impact on Arlington could be worth additional revenue of $162 million over 12 years and $392.5 million over 16 years.\n",
      "The incentives agreement promises the world’s largest online retailer cash grants estimated at about $23 million if it occupies 6.05 million square feet of office space in Crystal City and Pentagon City through 2035.\n",
      "The money would come from an expected increase in the hotel, motel and lodging tax paid by visitors; Amazon would get up to 15 percent of that increase, pegged to how much floor space is in active use by the company each year from 2020 to 2035.\n",
      "Amazon’s offices will be located within an already-established special tax district where a portion of the property tax revenue goes toward infrastructure improvements such as parks and wider sidewalks.\n",
      "The incentive agreement says that half of any new revenue from that district starting in 2021 will go specifically toward improvements around the Amazon buildings for the following 10 years. That grant is worth an estimated $28 million but the county says it’s not a grant just for Amazon, because the improvements will benefit other companies in the immediate area. Amazon will have a chance to express its opinion on how the county uses the money, although the board will make the decision.\n",
      "The county also offered Amazon the possibility of using its fast, fiber-optic network connection, which would be the subject of a separate agreement if the company chooses to use it.\n",
      "It’s not yet clear whether Amazon will pay the local business license tax because that tax is levied only on certain types of business, and Amazon has not yet announced which of its business units will be based in Arlington. If the company does pay the license tax, then some of its operations could be eligible for a discount of up to 72 percent under an existing program designed to attract technology companies.\n",
      "While Arlington pored over the details, the Virginia General Assembly passed, and Democratic Gov. Ralph Northam signed, an incentives package worth up to $750 million for Amazon.\n",
      "https://www.unionleader.com/news/business/arlington-virginia-board-plans-vote-on-amazon-incentives-after-lengthy/article_427512a0-3bf7-58ea-8d40-5791b74da305.html\n",
      "\n",
      "Example 4:\n",
      "Karl Kispert, principal of cyber and information security, has more than 28 years of experience in selling, managing and delivering information risk management, internal audit, regulatory and compliance programs, and information security and technology risk management.\n",
      "A former chief information security officer, Kispert has helped design and implement cybersecurity programs for many firms, according to the firm.\n",
      "“By adding this new service line, and bringing someone with Karl’s expertise to the firm, we can service yet another important aspect of our clients’ and prospects’ businesses, ensuring their continued success,” CEO Louis Grassi said in a written statement.\n",
      "Services will include full security programs, compliance, third party vendor risk assessment, threat management, and managed security services.\n",
      "https://libn.com/2018/04/10/grassi-co-enters-cyber-security-biz/\n",
      "\n",
      "Example 5:\n",
      "The Hawaii man who was fired after issuing the false ballistic missile alert in mid-January told reporters Friday that he was very upset over the incident but remained adamant that it appeared, at the time, to be a real-life attack.\n",
      "The former state employee – a man in his 50s who asked to remain anonymous for his safety – said that he was “100 percent sure” that the drill on Jan. 13 was real, even though several other employees heard the word “exercise” repeated throughout the message, according to officials.\n",
      "Once the man realized what had happened, he said he felt like he’d sustained a “body blow.” Since then, he’s reportedly been distressed to the point that he has had trouble eating and sleeping.\n",
      "During a news conference on Tuesday, investigating officer Brig. Gen. Bruce Oliveira shared details of the state’s probe and said when the mistake was realized, the employee “froze” and “seemed confused.” Another employee had to resume his duties and send a correction message, Oliveira said.\n",
      "The employee also reportedly had at least two previous incidents in which he mistook drills for real-world events, including for tsunami and fire warnings. But Oliveira said the employee was previously counseled and allowed to resume his duties.\n",
      "Following the event, the employee was fired and Vern Miyagi, who oversaw the Hawaii Emergency Management Agency, took responsibility and resigned.\n",
      "Toby Clairmont, the agency’s executive officer, also resigned before disciplinary action could be taken, and authorities are in the process of suspending another worker without pay.\n",
      "By 8:20 a.m., Hawaii EMA tweeted there was “NO missile threat” to the state, but failed to send a phone alert for another 38 minutes, causing mass panic among people who weren’t able to check social media.\n",
      "Fox News’ Katherine Lam and The Associated Press contributed to this report.\n",
      "https://www.foxnews.com/us/hawaii-man-who-sent-false-missile-alert-was-100-percent-sure-attack-was-real.print\n",
      "\n",
      "Example 6:\n",
      "Shania Twain expected to break the charts with new album NOW!\n",
      "Even after a 15-year hiatus, she’s still the one! Shania Twain is on pace to top the charts with her new album NOW. The 16-song LP was released on Sept. 29 and is set to shoot past Demi Lovato and Miley Cyrus to claim the number one spot on Billboard’s Top 200. The Timmins native hopped on Twitter on Wednesday to announce that her album is already platinum in Canada!\n",
      "Shortly after the release of the lead single “Life’s About to Get Good,” it hit number one on the Billboard 200. Of course, fans were simply dying to see how their favourite country icon was doing, so the new single rocked its way to the top of Billboard + Twitter Trending 140, too! So far, the song’s video has over four million views on YouTube and the number continues to ride the wave of Now’s release.\n",
      "The 52-year-old country star, still clad in her iconic leopard print, insists that Now is not a break up album but another coming-of-age collection of tunes bound to make listeners laugh, cry and rock out.\n",
      "This is one country powerhouse that just doesn’t quit. Despite originally declaring her 2015 Rock This Country tour as her final encore, Shania is ready to hit the road again. “I look forward to everyone getting familiar with the album – and then getting out there and performing live!” she exclaimed to Hello!.\n",
      "The Shania Now tour kicks off on May 3 in Tacoma, Washington, and will see the singer make stops in Vancouver, Toronto, Montreal, Edmonton, Winnipeg, Saskatoon, Hamilton, Ottawa, London and Quebec City. Tickets to see the Canadian musician are on sale now.\n",
      "https://ca.hellomagazine.com/music/02017100439100/shania-twain-album-now-number-one\n",
      "\n",
      "Example 7:\n",
      "A version of this article appeared in the print edition of The Daily Star on July 12, 2018, on page 16.\n",
      "Assembled by Palestinian artist Said Baalbaki, the exhibition presents 50 of Abbo's sketches, etchings and object, as well as texts – all taken from Baalbaki's personal collection of work from, and publications on, the elusive sculptor. Baalbaki has no work of his own in this show.\n",
      "Born in Safad, northern Palestine, around 1888-1890, Abbo was a farmer and fisherman who later took up carpentry and stone masonry. It was not until he moved to Berlin in 1911 to study sculpture that his artistic career took shape.\n",
      "Baalbaki has spent the last four years finding, and determining attribution for, 70 artworks and 100 texts mentioning the artist.\n",
      "Baalbaki says many of Abbo's sculptures didn't survive World War I. He believes those that were originally exhibited in museums in Germany were taken during the war and melted down to make weapons.\n",
      "Alongside Abbo's artworks are vintage photos of places he'd been or postcards from that time period, which Baalbaki says is to give an overall look at the life he led, in today's age of media and imagery.\n",
      "Baalbaki intends to continue his research and tracking down Abbo's works.\n",
      "http://www.dailystar.com.lb/Arts-and-Ent/Culture/2018/Jul-12/456188-retracing-a-forgotten-sculptor.ashx\n",
      "\n",
      "Example 8:\n",
      "A blind man in his 60s is searching for the young man who pulled him back from an approaching train and saved his life last Thursday, Nov. 9.\n",
      "Mike Wyatt stood at the stairs to the Peoria train station in Aurora, Colorado, on Monday, looking for the young man who saved his life days earlier.\n",
      "Wyatt was heading back home after visiting friends in Longmont, and was about to cross the tracks to transfer to another train, unaware that a train was approaching. Seconds before the train pulled up, a man can be seen on security camera footage pulling him back with both arms.\n",
      "“I am so stoked right now thinking that guy is going to come down that ramp [from the platform],” Wyatt told 9 News.\n",
      "In the video by 9 News, he can be seen talking to passersby in hopes that they have some info about the man.\n",
      "Although he hasn’t yet found him, 9 News did find a woman who saw the incident. She said she felt inspired by it.\n",
      "“People are good,” said Miranda, one of the witnesses.\n",
      "9News writes that Wyatt is thankful because the man has made it possible for Wyatt to be part of his grandchildren’s lives as they grow up.\n",
      "Wyatt told 9 News he will come to the station one more day to look for the man.\n",
      "“I will be always remembering this man and his kindness,” he said.\n",
      "https://www.theepochtimes.com/blind-man-searches-for-stranger-who-saved-his-life_2357718.html\n",
      "\n",
      "Example 9:\n",
      "After Kevin’s horrific leg injury, everyone is asking: will he ever play basketball again? Dr. Glashow, co-chief of sports medicine at Mount Sinai Medical Center, tells HollywoodLife.com exclusively if Kevin will ever be back on the court. Read on for details!\n",
      "After Louisville sophomore Kevin Ware broke his right leg during a game against Duke University, the basketball player was rushed to the hospital and underwent emergency surgery. After a successful surgery, Kevin is now focused on healing, but what does the future for his career hold?\n",
      "Kevin Ware’s Basketball Career: Will He Ever Play Again?\n",
      "Dr. Glashow, the co-chief of sports medicine at Mount Sinai Medical Center, tells HollywoodLife.com exclusively that not only will Kevin play basketball again, but he could be healed in time for next season!\n",
      "Although Kevin will be able to play basketball again, he has a long road to recovery ahead of him before he’ll be back on the court. After he’s recovered from surgery, Kevin’s next step will be physical therapy, according to Dr. Glashow.\n",
      "HollywoodLifers, do YOU think Kevin will play basketball again? Vote below!\n",
      "https://hollywoodlife.com/2013/04/01/kevin-ware-basketball-career-play-again-after-injury/\n",
      "\n"
     ]
    }
   ],
   "source": [
    "# Iterate over 10 examples\n",
    "for i, example in enumerate(realnewslike.take(10)): # for loop automatically calls iter() on the object\n",
    "    print(f\"Example {i}:\\n{example['text']}\\n{example['url']}\\n\")"
   ]
  }
 ],
 "metadata": {
  "kernelspec": {
   "display_name": "data_prep_env",
   "language": "python",
   "name": "python3"
  },
  "language_info": {
   "codemirror_mode": {
    "name": "ipython",
    "version": 3
   },
   "file_extension": ".py",
   "mimetype": "text/x-python",
   "name": "python",
   "nbconvert_exporter": "python",
   "pygments_lexer": "ipython3",
   "version": "3.10.17"
  }
 },
 "nbformat": 4,
 "nbformat_minor": 5
}
