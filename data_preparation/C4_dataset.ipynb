{
 "cells": [
  {
   "cell_type": "markdown",
   "id": "341bd39a",
   "metadata": {},
   "source": [
    "# C4 Dataset"
   ]
  },
  {
   "cell_type": "markdown",
   "id": "540ed3f1",
   "metadata": {},
   "source": [
    "5 variants of the data:\n",
    "- en: 305 GB\n",
    "- en.noclean: 2.3TB (unfiltered version without cleaning)\n",
    "- en.noblocklist: 308 GB (includes data that would otherwise be removed via blocklist)\n",
    "- realnewlike: 15 GB (subet similar in style to RealNews)\n",
    "- multilingual (mC4): 9.7TB (108 subets, one per language)\n",
    "\n",
    "Reference: https://huggingface.co/datasets/allenai/c4"
   ]
  },
  {
   "cell_type": "code",
   "execution_count": null,
   "id": "bdbe8cb8",
   "metadata": {},
   "outputs": [],
   "source": [
    "#!pip install datasets"
   ]
  },
  {
   "cell_type": "code",
   "execution_count": 27,
   "id": "222ec95a",
   "metadata": {},
   "outputs": [
    {
     "data": {
      "text/plain": [
       "IterableDataset({\n",
       "    features: ['text', 'timestamp', 'url'],\n",
       "    num_shards: 512\n",
       "})"
      ]
     },
     "execution_count": 27,
     "metadata": {},
     "output_type": "execute_result"
    }
   ],
   "source": [
    "from datasets import load_dataset\n",
    "\n",
    "# Load the dataset in streaming mode:\n",
    "# This avoids downloading the full dataset and allows lazy iteration over examples one at a time,\n",
    "# which is efficient for large datasets like C4.\n",
    "realnewslike = load_dataset(\"allenai/c4\", \"realnewslike\", split=\"train\", streaming=True)\n",
    "realnewslike\n"
   ]
  },
  {
   "cell_type": "code",
   "execution_count": 28,
   "id": "3a0acbdc",
   "metadata": {},
   "outputs": [
    {
     "name": "stdout",
     "output_type": "stream",
     "text": [
      "After the martyrdom of St. Boniface, Vergilius was made Bishop of Salzburg (766 or 767) and laboured successfully for the upbuilding of his diocese as well as for the spread of the Faith in neighbouring heathen countries, especially in Carinthia. He died at Salzburg, 27 November, 789. In 1233 he was canonized by Gregory IX. His doctrine that the earth is a sphere was derived from the teaching of ancient geographers, and his belief in the existence of the antipodes was probably influenced by the accounts which the ancient Irish voyagers gave of their journeys. This, at least, is the opinion of Rettberg (\"Kirchengesch. Deutschlands\", II, 236).\n",
      "2019-04-22 08:07:02.000000\n",
      "https://www.catholic.org/encyclopedia/view.php?id=11981\n"
     ]
    }
   ],
   "source": [
    "# Get the first example\n",
    "examples_iter = iter(realnewslike.take(10))\n",
    "first_example = next(examples_iter)\n",
    "print(first_example['text'])\n",
    "print(first_example['timestamp'])\n",
    "print(first_example['url'])"
   ]
  }
 ],
 "metadata": {
  "kernelspec": {
   "display_name": "data_prep_env",
   "language": "python",
   "name": "python3"
  },
  "language_info": {
   "codemirror_mode": {
    "name": "ipython",
    "version": 3
   },
   "file_extension": ".py",
   "mimetype": "text/x-python",
   "name": "python",
   "nbconvert_exporter": "python",
   "pygments_lexer": "ipython3",
   "version": "3.10.17"
  }
 },
 "nbformat": 4,
 "nbformat_minor": 5
}
