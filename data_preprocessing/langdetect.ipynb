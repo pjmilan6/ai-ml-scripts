{
 "cells": [
  {
   "cell_type": "markdown",
   "id": "b92c1649",
   "metadata": {},
   "source": [
    "# Language detection"
   ]
  },
  {
   "cell_type": "markdown",
   "id": "b676af77",
   "metadata": {},
   "source": [
    "Tools like langdetect can be used to determine the languages present in a text. This can be useful during data filtering steps if you want to keep only texts in specific language(s) for your training data. \n",
    "\n",
    "**Note**: These tools may not always be accurate, especially with very short or mixed-language texts."
   ]
  },
  {
   "cell_type": "code",
   "execution_count": 1,
   "id": "d2dc37fa",
   "metadata": {},
   "outputs": [],
   "source": [
    "#!pip install langdetect"
   ]
  },
  {
   "cell_type": "code",
   "execution_count": 2,
   "id": "d8587934",
   "metadata": {},
   "outputs": [
    {
     "data": {
      "text/plain": [
       "[en:0.999996839744953]"
      ]
     },
     "execution_count": 2,
     "metadata": {},
     "output_type": "execute_result"
    }
   ],
   "source": [
    "from langdetect import detect_langs\n",
    "\n",
    "# Define a text that is mostly in English with a few words in French\n",
    "text = \"\"\"Last summer, I took a spontaneous trip to the south of France, and it was magnifique. The sun was shining, the beaches were filled with laughter, and every evening we enjoyed fresh baguettes and local wine at a little bistro near the coast. I tried to speak a bit of French, saying bonjour and merci to the locals, who smiled warmly at my efforts. One day, I wandered into a quiet librairie and found a beautiful old book of poetry—such a simple plaisir, but it made my whole trip unforgettable\"\"\"\n",
    "\n",
    "# Detect the language(s) in the text and their probabilities\n",
    "detect_langs(text)"
   ]
  },
  {
   "cell_type": "code",
   "execution_count": 3,
   "id": "04a85761",
   "metadata": {},
   "outputs": [
    {
     "data": {
      "text/plain": [
       "[fr:0.9999965000616491]"
      ]
     },
     "execution_count": 3,
     "metadata": {},
     "output_type": "execute_result"
    }
   ],
   "source": [
    "# Define a text that is roughly half in English and half in French\n",
    "text = \"\"\"Last summer, I took a spontaneous trip to the south of France, et c'était magnifique. Le soleil brillait, les plages étaient pleines de rires, and every evening we enjoyed fresh baguettes and local vin at a little bistro près de la côte. J'ai essayé de parler un peu français, saying bonjour and merci to the locals, qui ont souri chaleureusement à mes efforts. Un jour, je suis entré dans une librairie tranquille et j'ai trouvé un beau livre de poésie ancienne—such a simple plaisir, but it made my whole trip unforgettable.\"\"\"\n",
    "\n",
    "# Detect the language(s) in the text\n",
    "detect_langs(text)\n"
   ]
  },
  {
   "cell_type": "code",
   "execution_count": 4,
   "id": "1f6375b9",
   "metadata": {},
   "outputs": [
    {
     "data": {
      "text/plain": [
       "[so:0.5714283832872271, en:0.4285706810585442]"
      ]
     },
     "execution_count": 4,
     "metadata": {},
     "output_type": "execute_result"
    }
   ],
   "source": [
    "# Define a short text in English\n",
    "text = 'Hi, how are you?'\n",
    "\n",
    "# Detect the language(s) in the text\n",
    "detect_langs(text)\n"
   ]
  }
 ],
 "metadata": {
  "kernelspec": {
   "display_name": "preprocessing_env",
   "language": "python",
   "name": "python3"
  },
  "language_info": {
   "codemirror_mode": {
    "name": "ipython",
    "version": 3
   },
   "file_extension": ".py",
   "mimetype": "text/x-python",
   "name": "python",
   "nbconvert_exporter": "python",
   "pygments_lexer": "ipython3",
   "version": "3.10.17"
  }
 },
 "nbformat": 4,
 "nbformat_minor": 5
}
